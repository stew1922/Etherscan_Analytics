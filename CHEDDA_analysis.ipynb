{
 "cells": [
  {
   "cell_type": "code",
   "execution_count": 1,
   "metadata": {},
   "outputs": [],
   "source": [
    "import pandas as pd\n",
    "from dotenv import load_dotenv\n",
    "load_dotenv\n",
    "import etherscan\n",
    "import os\n",
    "import json\n",
    "import requests, urllib\n",
    "\n",
    "api_key = os.getenv('API_KEY')"
   ]
  },
  {
   "cell_type": "code",
   "execution_count": 2,
   "metadata": {},
   "outputs": [],
   "source": [
    "chedda_dead = \"0x000000000000000000000000000000000000dead\"\n",
    "# initial 50B and then additional 1B were burned to this wallet\n",
    "chedda_deployer = \"0x763cfa5b0eb7bb2e54100010c5a8fc44d1dde714\"\n",
    "dev_wallet = \"0x8d29e90625213f4eedbdc49e6358fdbf76b9ddd0\"\n",
    "# staking rewards come from dev_wallet\n",
    "chedda_contract = \"0x16756EC1DEb89A2106C35E0B586a799D0A61837D\"\n",
    "chedda_marketing = \"0x9625088c654d26b9132feb52d37107ab898d19c6\"\n",
    "# 2% of every transaction goes to this wallet for marketing expenses\n",
    "null_address = \"0x0000000000000000000000000000000000000000\"\n",
    "# 1% of every transaction goes to this wallet to be burned"
   ]
  },
  {
   "cell_type": "code",
   "execution_count": 3,
   "metadata": {},
   "outputs": [
    {
     "data": {
      "text/plain": [
       "146306"
      ]
     },
     "execution_count": 3,
     "metadata": {},
     "output_type": "execute_result"
    }
   ],
   "source": [
    "txns = etherscan.Transactions()\n",
    "\n",
    "history = txns.erc20_txn_history(chedda_contract, './chedda_history.csv')\n",
    "len(history)"
   ]
  },
  {
   "cell_type": "code",
   "execution_count": 4,
   "metadata": {},
   "outputs": [
    {
     "data": {
      "text/plain": [
       "{'sent': {'0x099a473df9ba5c21cefc5a23f5812f6297d87347': 135800.00000000003,\n",
       "  '0x8a0da72681c1986048de54ccb61d80774f4a2e0f': 48500000.00000001,\n",
       "  '0x32a505bf9db617d23bf3ebaac9aef80cb24a828c': 8872913.328799518,\n",
       "  '0x113edb799a1d9593418ad99868bbf1bb54ed0f22': 970000.0,\n",
       "  '0x9625088c654d26b9132feb52d37107ab898d19c6': 1205746.6665731862,\n",
       "  '0x0000000000000000000000000000000000000000': 602873.3332865931},\n",
       " 'received': {'0xfda361a9967c35365cdd849d2b2da95a8f16c816': 98536727.30385858},\n",
       " 'balance': 38249393.975199275}"
      ]
     },
     "execution_count": 4,
     "metadata": {},
     "output_type": "execute_result"
    }
   ],
   "source": [
    "txns = etherscan.Transactions()\n",
    "\n",
    "dickwad = txns.associate_wallets('0x994501A9Ce5ef709Ab6e4d19dFd076FD82556C86', './chedda_history.csv')\n",
    "dickwad"
   ]
  },
  {
   "cell_type": "code",
   "execution_count": null,
   "metadata": {},
   "outputs": [],
   "source": [
    "def assoc_wallets(wallet, file_path):\n",
    "\n",
    "    history = pd.read_csv(file_path, index_col=0)\n",
    "\n",
    "    sent = history[history['from'] == wallet]\n",
    "    receive = history[history['to'] == wallet]\n",
    "\n",
    "    return sent, receive"
   ]
  },
  {
   "cell_type": "code",
   "execution_count": null,
   "metadata": {},
   "outputs": [],
   "source": [
    "import chedda\n",
    "chedda.txn_burned_chedda"
   ]
  }
 ],
 "metadata": {
  "interpreter": {
   "hash": "ccf84ffe5cf603e51c19b5d04a34c5dc50c44e9c354d1e154b7697a3403a7e31"
  },
  "kernelspec": {
   "display_name": "Python 3.9.7",
   "language": "python",
   "name": "python3"
  },
  "language_info": {
   "codemirror_mode": {
    "name": "ipython",
    "version": 3
   },
   "file_extension": ".py",
   "mimetype": "text/x-python",
   "name": "python",
   "nbconvert_exporter": "python",
   "pygments_lexer": "ipython3",
   "version": "3.7.11"
  },
  "orig_nbformat": 4
 },
 "nbformat": 4,
 "nbformat_minor": 2
}
