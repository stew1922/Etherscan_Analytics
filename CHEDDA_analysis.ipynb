{
 "cells": [
  {
   "cell_type": "code",
   "execution_count": 1,
   "metadata": {},
   "outputs": [],
   "source": [
    "import pandas as pd\n",
    "from dotenv import load_dotenv\n",
    "load_dotenv\n",
    "from etherscan import Accounts\n",
    "import os\n",
    "# import chedda\n",
    "import json\n",
    "import requests, urllib\n",
    "\n",
    "api_key = os.getenv('API_KEY')"
   ]
  },
  {
   "cell_type": "code",
   "execution_count": 2,
   "metadata": {},
   "outputs": [],
   "source": [
    "chedda_dead = \"0x000000000000000000000000000000000000dead\"\n",
    "# initial 50B and then additional 1B were burned to this wallet\n",
    "chedda_deployer = \"0x763cfa5b0eb7bb2e54100010c5a8fc44d1dde714\"\n",
    "dev_wallet = \"0x8d29e90625213f4eedbdc49e6358fdbf76b9ddd0\"\n",
    "# staking rewards come from dev_wallet\n",
    "chedda_contract = \"0x16756EC1DEb89A2106C35E0B586a799D0A61837D\"\n",
    "chedda_marketing = \"0x9625088c654d26b9132feb52d37107ab898d19c6\"\n",
    "# 2% of every transaction goes to this wallet for marketing expenses\n",
    "null_address = \"0x0000000000000000000000000000000000000000\"\n",
    "# 1% of every transaction goes to this wallet to be burned"
   ]
  },
  {
   "cell_type": "code",
   "execution_count": 3,
   "metadata": {},
   "outputs": [
    {
     "data": {
      "text/plain": [
       "{'0x9625088c654d26b9132feb52d37107ab898d19c6': 12.356399723314706,\n",
       " '0x8d29e90625213f4eedbdc49e6358fdbf76b9ddd0': 0.0}"
      ]
     },
     "execution_count": 3,
     "metadata": {},
     "output_type": "execute_result"
    }
   ],
   "source": [
    "eth = Accounts()\n",
    "\n",
    "eth.get_eth_balance([chedda_marketing, dev_wallet])"
   ]
  },
  {
   "cell_type": "code",
   "execution_count": 4,
   "metadata": {},
   "outputs": [
    {
     "ename": "NameError",
     "evalue": "name 'test' is not defined",
     "output_type": "error",
     "traceback": [
      "\u001b[1;31m---------------------------------------------------------------------------\u001b[0m",
      "\u001b[1;31mNameError\u001b[0m                                 Traceback (most recent call last)",
      "\u001b[1;32m~\\AppData\\Local\\Temp/ipykernel_19156/3177242692.py\u001b[0m in \u001b[0;36m<module>\u001b[1;34m\u001b[0m\n\u001b[1;32m----> 1\u001b[1;33m \u001b[1;32mfor\u001b[0m \u001b[0mbalance\u001b[0m \u001b[1;32min\u001b[0m \u001b[0mtest\u001b[0m\u001b[1;33m[\u001b[0m\u001b[1;34m'result'\u001b[0m\u001b[1;33m]\u001b[0m\u001b[1;33m:\u001b[0m\u001b[1;33m\u001b[0m\u001b[1;33m\u001b[0m\u001b[0m\n\u001b[0m\u001b[0;32m      2\u001b[0m     \u001b[0mprint\u001b[0m\u001b[1;33m(\u001b[0m\u001b[0mbalance\u001b[0m\u001b[1;33m[\u001b[0m\u001b[1;34m'account'\u001b[0m\u001b[1;33m]\u001b[0m\u001b[1;33m,\u001b[0m \u001b[0mbalance\u001b[0m\u001b[1;33m[\u001b[0m\u001b[1;34m'balance'\u001b[0m\u001b[1;33m]\u001b[0m\u001b[1;33m)\u001b[0m\u001b[1;33m\u001b[0m\u001b[1;33m\u001b[0m\u001b[0m\n",
      "\u001b[1;31mNameError\u001b[0m: name 'test' is not defined"
     ]
    }
   ],
   "source": [
    "for balance in test['result']:\n",
    "    print(balance['account'], balance['balance'])"
   ]
  }
 ],
 "metadata": {
  "interpreter": {
   "hash": "ccf84ffe5cf603e51c19b5d04a34c5dc50c44e9c354d1e154b7697a3403a7e31"
  },
  "kernelspec": {
   "display_name": "Python 3.9.7",
   "language": "python",
   "name": "python3"
  },
  "language_info": {
   "codemirror_mode": {
    "name": "ipython",
    "version": 3
   },
   "file_extension": ".py",
   "mimetype": "text/x-python",
   "name": "python",
   "nbconvert_exporter": "python",
   "pygments_lexer": "ipython3",
   "version": "3.7.11"
  },
  "orig_nbformat": 4
 },
 "nbformat": 4,
 "nbformat_minor": 2
}
