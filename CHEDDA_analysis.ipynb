{
 "cells": [
  {
   "cell_type": "code",
   "execution_count": 1,
   "metadata": {},
   "outputs": [],
   "source": [
    "import pandas as pd\n",
    "from dotenv import load_dotenv\n",
    "load_dotenv\n",
    "import etherscan\n",
    "import os\n",
    "import chedda\n",
    "import json\n",
    "import requests, urllib\n",
    "\n",
    "api_key = os.getenv('API_KEY')"
   ]
  },
  {
   "cell_type": "code",
   "execution_count": 2,
   "metadata": {},
   "outputs": [],
   "source": [
    "chedda_dead = \"0x000000000000000000000000000000000000dead\"\n",
    "# initial 50B and then additional 1B were burned to this wallet\n",
    "chedda_deployer = \"0x763cfa5b0eb7bb2e54100010c5a8fc44d1dde714\"\n",
    "dev_wallet = \"0x8d29e90625213f4eedbdc49e6358fdbf76b9ddd0\"\n",
    "# staking rewards come from dev_wallet\n",
    "chedda_contract = \"0x16756EC1DEb89A2106C35E0B586a799D0A61837D\"\n",
    "chedda_marketing = \"0x9625088c654d26b9132feb52d37107ab898d19c6\"\n",
    "# 2% of every transaction goes to this wallet for marketing expenses\n",
    "null_address = \"0x0000000000000000000000000000000000000000\"\n",
    "# 1% of every transaction goes to this wallet to be burned"
   ]
  },
  {
   "cell_type": "code",
   "execution_count": 5,
   "metadata": {},
   "outputs": [
    {
     "data": {
      "text/plain": [
       "677217248.4181061"
      ]
     },
     "execution_count": 5,
     "metadata": {},
     "output_type": "execute_result"
    }
   ],
   "source": [
    "chedda.trans_burned_chedda"
   ]
  }
 ],
 "metadata": {
  "interpreter": {
   "hash": "ccf84ffe5cf603e51c19b5d04a34c5dc50c44e9c354d1e154b7697a3403a7e31"
  },
  "kernelspec": {
   "display_name": "Python 3.9.7",
   "language": "python",
   "name": "python3"
  },
  "language_info": {
   "codemirror_mode": {
    "name": "ipython",
    "version": 3
   },
   "file_extension": ".py",
   "mimetype": "text/x-python",
   "name": "python",
   "nbconvert_exporter": "python",
   "pygments_lexer": "ipython3",
   "version": "3.7.11"
  },
  "orig_nbformat": 4
 },
 "nbformat": 4,
 "nbformat_minor": 2
}
